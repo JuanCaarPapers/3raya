{
 "cells": [
  {
   "cell_type": "code",
   "execution_count": 2,
   "metadata": {},
   "outputs": [],
   "source": [
    "import pandas as pd\n",
    "import numpy as np\n",
    "import matplotlib.pyplot as plt"
   ]
  },
  {
   "cell_type": "code",
   "execution_count": 28,
   "metadata": {},
   "outputs": [
    {
     "data": {
      "text/html": [
       "<div>\n",
       "<style scoped>\n",
       "    .dataframe tbody tr th:only-of-type {\n",
       "        vertical-align: middle;\n",
       "    }\n",
       "\n",
       "    .dataframe tbody tr th {\n",
       "        vertical-align: top;\n",
       "    }\n",
       "\n",
       "    .dataframe thead th {\n",
       "        text-align: right;\n",
       "    }\n",
       "</style>\n",
       "<table border=\"1\" class=\"dataframe\">\n",
       "  <thead>\n",
       "    <tr style=\"text-align: right;\">\n",
       "      <th></th>\n",
       "      <th>A</th>\n",
       "      <th>B</th>\n",
       "      <th>C</th>\n",
       "    </tr>\n",
       "  </thead>\n",
       "  <tbody>\n",
       "    <tr>\n",
       "      <th>0</th>\n",
       "      <td>X</td>\n",
       "      <td></td>\n",
       "      <td></td>\n",
       "    </tr>\n",
       "    <tr>\n",
       "      <th>1</th>\n",
       "      <td></td>\n",
       "      <td>X</td>\n",
       "      <td></td>\n",
       "    </tr>\n",
       "    <tr>\n",
       "      <th>2</th>\n",
       "      <td></td>\n",
       "      <td></td>\n",
       "      <td>O</td>\n",
       "    </tr>\n",
       "  </tbody>\n",
       "</table>\n",
       "</div>"
      ],
      "text/plain": [
       "   A  B  C\n",
       "0  X      \n",
       "1     X   \n",
       "2        O"
      ]
     },
     "execution_count": 28,
     "metadata": {},
     "output_type": "execute_result"
    }
   ],
   "source": [
    "t = pd.DataFrame([['X','',''],\n",
    "                  ['','X',''],\n",
    "                  ['','','O']\n",
    "                ],columns=['A','B','C'])\n",
    "t.head()"
   ]
  },
  {
   "cell_type": "code",
   "execution_count": 54,
   "metadata": {},
   "outputs": [
    {
     "data": {
      "text/html": [
       "<div>\n",
       "<style scoped>\n",
       "    .dataframe tbody tr th:only-of-type {\n",
       "        vertical-align: middle;\n",
       "    }\n",
       "\n",
       "    .dataframe tbody tr th {\n",
       "        vertical-align: top;\n",
       "    }\n",
       "\n",
       "    .dataframe thead th {\n",
       "        text-align: right;\n",
       "    }\n",
       "</style>\n",
       "<table border=\"1\" class=\"dataframe\">\n",
       "  <thead>\n",
       "    <tr style=\"text-align: right;\">\n",
       "      <th></th>\n",
       "      <th>A</th>\n",
       "      <th>B</th>\n",
       "      <th>C</th>\n",
       "    </tr>\n",
       "  </thead>\n",
       "  <tbody>\n",
       "    <tr>\n",
       "      <th>1</th>\n",
       "      <td>X</td>\n",
       "      <td></td>\n",
       "      <td></td>\n",
       "    </tr>\n",
       "    <tr>\n",
       "      <th>2</th>\n",
       "      <td></td>\n",
       "      <td></td>\n",
       "      <td></td>\n",
       "    </tr>\n",
       "    <tr>\n",
       "      <th>3</th>\n",
       "      <td></td>\n",
       "      <td></td>\n",
       "      <td>O</td>\n",
       "    </tr>\n",
       "  </tbody>\n",
       "</table>\n",
       "</div>"
      ],
      "text/plain": [
       "   A B  C\n",
       "1  X     \n",
       "2        \n",
       "3       O"
      ]
     },
     "execution_count": 54,
     "metadata": {},
     "output_type": "execute_result"
    }
   ],
   "source": [
    "fila_1 = np.array(['','',''])\n",
    "fila_2 = np.array(['','',''])\n",
    "fila_3 = np.array(['','',''])"
   ]
  },
  {
   "cell_type": "code",
   "execution_count": 71,
   "metadata": {},
   "outputs": [
    {
     "data": {
      "text/html": [
       "<div>\n",
       "<style scoped>\n",
       "    .dataframe tbody tr th:only-of-type {\n",
       "        vertical-align: middle;\n",
       "    }\n",
       "\n",
       "    .dataframe tbody tr th {\n",
       "        vertical-align: top;\n",
       "    }\n",
       "\n",
       "    .dataframe thead th {\n",
       "        text-align: right;\n",
       "    }\n",
       "</style>\n",
       "<table border=\"1\" class=\"dataframe\">\n",
       "  <thead>\n",
       "    <tr style=\"text-align: right;\">\n",
       "      <th></th>\n",
       "      <th>A</th>\n",
       "      <th>B</th>\n",
       "      <th>C</th>\n",
       "    </tr>\n",
       "  </thead>\n",
       "  <tbody>\n",
       "    <tr>\n",
       "      <th>1</th>\n",
       "      <td>X</td>\n",
       "      <td>X</td>\n",
       "      <td>X</td>\n",
       "    </tr>\n",
       "    <tr>\n",
       "      <th>2</th>\n",
       "      <td>X</td>\n",
       "      <td>X</td>\n",
       "      <td></td>\n",
       "    </tr>\n",
       "    <tr>\n",
       "      <th>3</th>\n",
       "      <td>X</td>\n",
       "      <td></td>\n",
       "      <td>O</td>\n",
       "    </tr>\n",
       "  </tbody>\n",
       "</table>\n",
       "</div>"
      ],
      "text/plain": [
       "   A  B  C\n",
       "1  X  X  X\n",
       "2  X  X   \n",
       "3  X     O"
      ]
     },
     "execution_count": 71,
     "metadata": {},
     "output_type": "execute_result"
    }
   ],
   "source": [
    "#ESTRUCTURA PRINCIPAL DEL JUEGO\n",
    "\n",
    "\n",
    "def rellenar_tablero():\n",
    "    fila = (input('¿Qué fila quieres rellenar?'))\n",
    "    columna = str.capitalize(input('¿Qué columna quieres rellenar?'))\n",
    "    #Para la fila 1\n",
    "    if fila == '1' and columna == 'A':\n",
    "        fila_1[0] = figura\n",
    "    elif fila == '1' and columna == 'B':\n",
    "        fila_1[1] = figura\n",
    "    elif fila == '1' and columna == 'C':\n",
    "        fila_1[2] = figura\n",
    "\n",
    "    #Para la fila 2\n",
    "    elif fila == '2' and columna == 'A':\n",
    "        fila_2[0] = figura\n",
    "    elif fila == '2' and columna == 'B':\n",
    "        fila_2[1] = figura\n",
    "    elif fila == '2' and columna == 'C':\n",
    "        fila_2[2] = figura\n",
    "\n",
    "    #Para la fila 3 \n",
    "    elif fila == '3' and columna == 'A':\n",
    "        fila_3[0] = figura\n",
    "    elif fila == '3' and columna == 'B':\n",
    "        fila_3[1] = figura\n",
    "    elif fila == '3' and columna == 'C':\n",
    "        fila_3[2] = figura\n",
    "\n",
    "rellenar_tablero()\n",
    "\n",
    "pd.DataFrame([fila_1,fila_2,fila_3],columns=['A','B','C'],index=['1','2','3'])\n"
   ]
  },
  {
   "cell_type": "code",
   "execution_count": 73,
   "metadata": {},
   "outputs": [],
   "source": [
    "#SELECCION DE PIEZAS POR JUGADOR \n",
    "def selec_pieza():\n",
    "    print('Bienvenidos al tres en raya, jugador 1 selecciona una pieza:'+\n",
    "          '\\n Según la pieza elegida, el jugador 2 jugará con la restante.'+\n",
    "          '\\n             1: X  2: O')\n",
    "    try:\n",
    "        sel_piez = int(input('Escribe 1 o 2 para elegir pieza'))\n",
    "        while(sel_piez != 1 and sel_piez != 2):\n",
    "            print('por favor selecciona una opción valida')\n",
    "            sel_piez = int(input('Escribe 1 o 2 para elegir pieza'))\n",
    "        if sel_piez == 1:\n",
    "            fig1 = 'X'\n",
    "            fig2 = 'O'\n",
    "        elif sel_piez == 2:\n",
    "            fig1 = 'O'\n",
    "            fig2 = 'X'\n",
    "    except:\n",
    "        print('selecciona una opccion valida')\n",
    "        return selec_pieza()"
   ]
  },
  {
   "cell_type": "code",
   "execution_count": 17,
   "metadata": {},
   "outputs": [
    {
     "name": "stdout",
     "output_type": "stream",
     "text": [
      "[array([['X', 'X', 'X'],\n",
      "       ['', '', ''],\n",
      "       ['', '', '']], dtype='<U1'), array([['', '', ''],\n",
      "       ['X', 'X', 'X'],\n",
      "       ['', '', '']], dtype='<U1'), array([['', '', ''],\n",
      "       ['', '', ''],\n",
      "       ['X', 'X', 'X']], dtype='<U1'), array([['X', '', ''],\n",
      "       ['X', '', ''],\n",
      "       ['X', '', '']], dtype='<U1'), array([['', 'X', ''],\n",
      "       ['', 'X', ''],\n",
      "       ['', 'X', '']], dtype='<U1'), array([['', '', 'X'],\n",
      "       ['', '', 'X'],\n",
      "       ['', '', 'X']], dtype='<U1'), array([['X', '', ''],\n",
      "       ['', 'X', ''],\n",
      "       ['', '', 'X']], dtype='<U1'), array([['', '', 'X'],\n",
      "       ['', 'X', ''],\n",
      "       ['X', '', '']], dtype='<U1')]\n"
     ]
    }
   ],
   "source": [
    "victoria_jg1 = [np.array([['X','X','X'],['','',''],['','','']]),np.array([['','',''],['X','X','X'],['','','']]),np.array([['','',''],['','',''],['X','X','X']]),\n",
    "            np.array([['X','',''],['X','',''],['X','','']]),np.array([['','X',''],['','X',''],['','X','']]),np.array([['','','X'],['','','X'],['','','X']]),\n",
    "            np.array([['X','',''],['','X',''],['','','X']]),np.array([['','','X'],['','X',''],['X','','']])]\n",
    "\n",
    "victoria_jg2 = [np.array([['O','O','O'],['','',''],['','','']]),np.array([['','',''],['O','O','O'],['','','']]),np.array([['','',''],['','',''],['O','O','O']]),\n",
    "            np.array([['O','',''],['O','',''],['O','','']]),np.array([['','O',''],['','O',''],['','O','']]),np.array([['','','O'],['','','O'],['','','O']]),\n",
    "            np.array([['O','',''],['','O',''],['','','O']]),np.array([['','','O'],['','O',''],['O','','']])]\n",
    "print(victoria_jg1)"
   ]
  },
  {
   "cell_type": "code",
   "execution_count": 14,
   "metadata": {},
   "outputs": [
    {
     "name": "stdout",
     "output_type": "stream",
     "text": [
      "[[1 2 3]\n",
      " [1 4 5]]\n"
     ]
    }
   ],
   "source": [
    "hola = np.array([[1,2,3],[1,4,5]])\n",
    "print(hola)"
   ]
  },
  {
   "cell_type": "code",
   "execution_count": null,
   "metadata": {},
   "outputs": [],
   "source": []
  }
 ],
 "metadata": {
  "kernelspec": {
   "display_name": "Python 3.11.0 64-bit",
   "language": "python",
   "name": "python3"
  },
  "language_info": {
   "codemirror_mode": {
    "name": "ipython",
    "version": 3
   },
   "file_extension": ".py",
   "mimetype": "text/x-python",
   "name": "python",
   "nbconvert_exporter": "python",
   "pygments_lexer": "ipython3",
   "version": "3.11.0"
  },
  "orig_nbformat": 4,
  "vscode": {
   "interpreter": {
    "hash": "aee8b7b246df8f9039afb4144a1f6fd8d2ca17a180786b69acc140d282b71a49"
   }
  }
 },
 "nbformat": 4,
 "nbformat_minor": 2
}
